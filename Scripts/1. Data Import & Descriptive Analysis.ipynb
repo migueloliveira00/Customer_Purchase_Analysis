{
 "cells": [
  {
   "cell_type": "markdown",
   "id": "61111852",
   "metadata": {},
   "source": [
    "#01. Importing Libraries"
   ]
  },
  {
   "cell_type": "code",
   "execution_count": 1,
   "id": "2a7615c2",
   "metadata": {},
   "outputs": [],
   "source": [
    "# Import libraries\n",
    "import pandas as pd\n",
    "import numpy as np\n",
    "import os"
   ]
  },
  {
   "cell_type": "markdown",
   "id": "31b3d872",
   "metadata": {},
   "source": [
    "#02. Data Types"
   ]
  },
  {
   "cell_type": "code",
   "execution_count": 2,
   "id": "734af291",
   "metadata": {},
   "outputs": [],
   "source": [
    "x = 2"
   ]
  },
  {
   "cell_type": "code",
   "execution_count": 3,
   "id": "81401690",
   "metadata": {},
   "outputs": [
    {
     "data": {
      "text/plain": [
       "2"
      ]
     },
     "execution_count": 3,
     "metadata": {},
     "output_type": "execute_result"
    }
   ],
   "source": [
    "x"
   ]
  },
  {
   "cell_type": "code",
   "execution_count": 4,
   "id": "0378d410",
   "metadata": {},
   "outputs": [
    {
     "name": "stdout",
     "output_type": "stream",
     "text": [
      "2\n"
     ]
    }
   ],
   "source": [
    "print(x)"
   ]
  },
  {
   "cell_type": "code",
   "execution_count": 5,
   "id": "b3fc1368",
   "metadata": {},
   "outputs": [
    {
     "data": {
      "text/plain": [
       "int"
      ]
     },
     "execution_count": 5,
     "metadata": {},
     "output_type": "execute_result"
    }
   ],
   "source": [
    "type(x)"
   ]
  },
  {
   "cell_type": "code",
   "execution_count": 6,
   "id": "062d73fe",
   "metadata": {},
   "outputs": [],
   "source": [
    "y = 5.678"
   ]
  },
  {
   "cell_type": "code",
   "execution_count": 7,
   "id": "e7bd1ed5",
   "metadata": {},
   "outputs": [
    {
     "data": {
      "text/plain": [
       "float"
      ]
     },
     "execution_count": 7,
     "metadata": {},
     "output_type": "execute_result"
    }
   ],
   "source": [
    "type(y)"
   ]
  },
  {
   "cell_type": "code",
   "execution_count": 8,
   "id": "e94fe078",
   "metadata": {},
   "outputs": [],
   "source": [
    "z = 'Brazil'"
   ]
  },
  {
   "cell_type": "code",
   "execution_count": 9,
   "id": "e95c69bb",
   "metadata": {},
   "outputs": [
    {
     "data": {
      "text/plain": [
       "str"
      ]
     },
     "execution_count": 9,
     "metadata": {},
     "output_type": "execute_result"
    }
   ],
   "source": [
    "type(z)"
   ]
  },
  {
   "cell_type": "code",
   "execution_count": 10,
   "id": "bdc019cc",
   "metadata": {},
   "outputs": [
    {
     "data": {
      "text/plain": [
       "str"
      ]
     },
     "execution_count": 10,
     "metadata": {},
     "output_type": "execute_result"
    }
   ],
   "source": [
    "type('Mania')"
   ]
  },
  {
   "cell_type": "code",
   "execution_count": 11,
   "id": "d2ae8234",
   "metadata": {},
   "outputs": [
    {
     "data": {
      "text/plain": [
       "bool"
      ]
     },
     "execution_count": 11,
     "metadata": {},
     "output_type": "execute_result"
    }
   ],
   "source": [
    "type(True)"
   ]
  },
  {
   "cell_type": "code",
   "execution_count": 12,
   "id": "613fe6e2",
   "metadata": {},
   "outputs": [
    {
     "data": {
      "text/plain": [
       "bool"
      ]
     },
     "execution_count": 12,
     "metadata": {},
     "output_type": "execute_result"
    }
   ],
   "source": [
    "type(False)"
   ]
  },
  {
   "cell_type": "code",
   "execution_count": 13,
   "id": "bcd35220",
   "metadata": {},
   "outputs": [
    {
     "data": {
      "text/plain": [
       "6"
      ]
     },
     "execution_count": 13,
     "metadata": {},
     "output_type": "execute_result"
    }
   ],
   "source": [
    "x + 4"
   ]
  },
  {
   "cell_type": "code",
   "execution_count": 14,
   "id": "42bd5c75",
   "metadata": {},
   "outputs": [
    {
     "data": {
      "text/plain": [
       "7.678"
      ]
     },
     "execution_count": 14,
     "metadata": {},
     "output_type": "execute_result"
    }
   ],
   "source": [
    "x + y"
   ]
  },
  {
   "cell_type": "code",
   "execution_count": 15,
   "id": "a4c21506",
   "metadata": {},
   "outputs": [],
   "source": [
    "x = x + 4"
   ]
  },
  {
   "cell_type": "code",
   "execution_count": 16,
   "id": "43770260",
   "metadata": {},
   "outputs": [
    {
     "name": "stdout",
     "output_type": "stream",
     "text": [
      "6\n"
     ]
    }
   ],
   "source": [
    "print(x)"
   ]
  },
  {
   "cell_type": "code",
   "execution_count": 20,
   "id": "419a157a",
   "metadata": {},
   "outputs": [],
   "source": [
    "a = 'Hello '"
   ]
  },
  {
   "cell_type": "code",
   "execution_count": 21,
   "id": "772a0b91",
   "metadata": {},
   "outputs": [],
   "source": [
    "b = 'Miguel'"
   ]
  },
  {
   "cell_type": "code",
   "execution_count": 22,
   "id": "98d3d9cb",
   "metadata": {},
   "outputs": [
    {
     "data": {
      "text/plain": [
       "'Hello Miguel'"
      ]
     },
     "execution_count": 22,
     "metadata": {},
     "output_type": "execute_result"
    }
   ],
   "source": [
    "a + b"
   ]
  },
  {
   "cell_type": "code",
   "execution_count": 23,
   "id": "8e515331",
   "metadata": {},
   "outputs": [],
   "source": [
    "n = 'potatoes'"
   ]
  },
  {
   "cell_type": "code",
   "execution_count": 24,
   "id": "afca6cc0",
   "metadata": {},
   "outputs": [
    {
     "data": {
      "text/plain": [
       "'potatoespotatoespotatoespotatoespotatoespotatoespotatoespotatoespotatoespotatoes'"
      ]
     },
     "execution_count": 24,
     "metadata": {},
     "output_type": "execute_result"
    }
   ],
   "source": [
    "n * 10"
   ]
  },
  {
   "cell_type": "code",
   "execution_count": 25,
   "id": "c26838ce",
   "metadata": {},
   "outputs": [
    {
     "data": {
      "text/plain": [
       "False"
      ]
     },
     "execution_count": 25,
     "metadata": {},
     "output_type": "execute_result"
    }
   ],
   "source": [
    "x == y"
   ]
  },
  {
   "cell_type": "code",
   "execution_count": 26,
   "id": "90bda4db",
   "metadata": {},
   "outputs": [
    {
     "data": {
      "text/plain": [
       "bool"
      ]
     },
     "execution_count": 26,
     "metadata": {},
     "output_type": "execute_result"
    }
   ],
   "source": [
    "type(x == y)"
   ]
  },
  {
   "cell_type": "markdown",
   "id": "74305e81",
   "metadata": {},
   "source": [
    "#03. Exercise 4.2"
   ]
  },
  {
   "cell_type": "code",
   "execution_count": 29,
   "id": "6154c389",
   "metadata": {},
   "outputs": [
    {
     "data": {
      "text/plain": [
       "100"
      ]
     },
     "execution_count": 29,
     "metadata": {},
     "output_type": "execute_result"
    }
   ],
   "source": [
    "# 7\n",
    "80 + 20"
   ]
  },
  {
   "cell_type": "code",
   "execution_count": 30,
   "id": "3174e0c0",
   "metadata": {},
   "outputs": [
    {
     "data": {
      "text/plain": [
       "100"
      ]
     },
     "execution_count": 30,
     "metadata": {},
     "output_type": "execute_result"
    }
   ],
   "source": [
    "# 7\n",
    "150 - 50"
   ]
  },
  {
   "cell_type": "code",
   "execution_count": 31,
   "id": "bda1ed38",
   "metadata": {},
   "outputs": [
    {
     "data": {
      "text/plain": [
       "100"
      ]
     },
     "execution_count": 31,
     "metadata": {},
     "output_type": "execute_result"
    }
   ],
   "source": [
    "# 7\n",
    "30 + 70"
   ]
  },
  {
   "cell_type": "code",
   "execution_count": 32,
   "id": "91cae2f0",
   "metadata": {},
   "outputs": [],
   "source": [
    "# 8\n",
    "t = 200"
   ]
  },
  {
   "cell_type": "code",
   "execution_count": 33,
   "id": "3f2ec9e2",
   "metadata": {},
   "outputs": [],
   "source": [
    "# 8\n",
    "r = 2"
   ]
  },
  {
   "cell_type": "code",
   "execution_count": 34,
   "id": "24836bf7",
   "metadata": {},
   "outputs": [
    {
     "data": {
      "text/plain": [
       "100.0"
      ]
     },
     "execution_count": 34,
     "metadata": {},
     "output_type": "execute_result"
    }
   ],
   "source": [
    "# 8\n",
    "t / r"
   ]
  },
  {
   "cell_type": "code",
   "execution_count": 35,
   "id": "d0ae53b3",
   "metadata": {},
   "outputs": [],
   "source": [
    "# 9\n",
    "p = 'Port'"
   ]
  },
  {
   "cell_type": "code",
   "execution_count": 36,
   "id": "2178c643",
   "metadata": {},
   "outputs": [],
   "source": [
    "# 9\n",
    "g = 'ugal'"
   ]
  },
  {
   "cell_type": "code",
   "execution_count": 37,
   "id": "9bea3da5",
   "metadata": {},
   "outputs": [
    {
     "data": {
      "text/plain": [
       "'Portugal'"
      ]
     },
     "execution_count": 37,
     "metadata": {},
     "output_type": "execute_result"
    }
   ],
   "source": [
    "# 9\n",
    "p + g"
   ]
  },
  {
   "cell_type": "code",
   "execution_count": 38,
   "id": "f0fc242b",
   "metadata": {},
   "outputs": [],
   "source": [
    "# 10\n",
    "l = 'Learning Python is fun!'"
   ]
  },
  {
   "cell_type": "code",
   "execution_count": 39,
   "id": "896d4ec2",
   "metadata": {},
   "outputs": [],
   "source": [
    "#10\n",
    "i = ' It is a valuable skill.'"
   ]
  },
  {
   "cell_type": "code",
   "execution_count": 40,
   "id": "eb6acaf2",
   "metadata": {},
   "outputs": [
    {
     "data": {
      "text/plain": [
       "'Learning Python is fun! It is a valuable skill.'"
      ]
     },
     "execution_count": 40,
     "metadata": {},
     "output_type": "execute_result"
    }
   ],
   "source": [
    "#10\n",
    "l + i"
   ]
  },
  {
   "cell_type": "code",
   "execution_count": 41,
   "id": "410b7dfd",
   "metadata": {},
   "outputs": [],
   "source": [
    "# Bonus\n",
    "h = 'Miguel '"
   ]
  },
  {
   "cell_type": "code",
   "execution_count": 42,
   "id": "72d6a9c6",
   "metadata": {},
   "outputs": [
    {
     "data": {
      "text/plain": [
       "'Miguel Miguel Miguel Miguel Miguel Miguel Miguel Miguel Miguel Miguel Miguel Miguel Miguel Miguel Miguel Miguel Miguel Miguel Miguel Miguel Miguel Miguel Miguel Miguel Miguel Miguel Miguel Miguel Miguel Miguel Miguel Miguel Miguel Miguel Miguel Miguel Miguel Miguel Miguel Miguel Miguel Miguel Miguel Miguel Miguel Miguel Miguel Miguel Miguel Miguel Miguel Miguel Miguel Miguel Miguel Miguel Miguel Miguel Miguel Miguel Miguel Miguel Miguel Miguel Miguel Miguel Miguel Miguel Miguel Miguel Miguel Miguel Miguel Miguel Miguel Miguel Miguel Miguel Miguel Miguel Miguel Miguel Miguel Miguel Miguel Miguel Miguel Miguel Miguel Miguel Miguel Miguel Miguel Miguel Miguel Miguel Miguel Miguel Miguel Miguel '"
      ]
     },
     "execution_count": 42,
     "metadata": {},
     "output_type": "execute_result"
    }
   ],
   "source": [
    "# Bonus\n",
    "h * 100"
   ]
  },
  {
   "cell_type": "code",
   "execution_count": null,
   "id": "6923e8c5",
   "metadata": {},
   "outputs": [],
   "source": []
  }
 ],
 "metadata": {
  "kernelspec": {
   "display_name": "Python 3 (ipykernel)",
   "language": "python",
   "name": "python3"
  },
  "language_info": {
   "codemirror_mode": {
    "name": "ipython",
    "version": 3
   },
   "file_extension": ".py",
   "mimetype": "text/x-python",
   "name": "python",
   "nbconvert_exporter": "python",
   "pygments_lexer": "ipython3",
   "version": "3.11.5"
  }
 },
 "nbformat": 4,
 "nbformat_minor": 5
}
